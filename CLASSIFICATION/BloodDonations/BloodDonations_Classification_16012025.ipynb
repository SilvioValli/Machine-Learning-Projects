{
 "cells": [
  {
   "cell_type": "markdown",
   "id": "bba3e9a8",
   "metadata": {},
   "source": [
    "# Blood exercise: 2025-01-16"
   ]
  },
  {
   "cell_type": "markdown",
   "id": "7c8fb6a0",
   "metadata": {},
   "source": [
    "The dataset is inspired to the one originated from a study from the Chung-Hua University on blood donation habits in Hsin-Chu city, Taiwan.\n",
    "\n",
    "The **classification goal** is to predict whether the subjet **has donated or not** on March 2007, based on the following attributes\n",
    "\n",
    "- *Recency (months)* - months since last donation\n",
    "- *Frequency (times)* - total number of donation\n",
    "- *Monetary (c.c. blood)* - total blood donated in c.c.\n",
    "- *Time (months)* - months since first donation\n",
    "- *whether he/she donated blood in March 2007*: (**target variable**) binary variable representing whether he/she donated blood in March 2007 (1 stand for donating blood; 0 stands for not donating blood)"
   ]
  },
  {
   "cell_type": "markdown",
   "id": "96c5c6f8",
   "metadata": {},
   "source": [
    "# Steps summary\n",
    "1. Import the training set: *blood_train.csv*\n",
    "    - Drop the SubjectID column\n",
    "3. Perform an **exploratory analysis**:\n",
    "    - Report and discuss the results of the analysis\n",
    "4. Perform the **required preprocessing steps** and carry out a **classification analysis** aimed at predicting the **target variable** considering the following setting:\n",
    "    - Create a \"dummy\" classifier, that is, a baseline that ignore the input features and simply always predicts the most frequent class label in the training set. What are its performance metrics on the training set?\n",
    "    - Apply a 10-fold cross-validation procedure on the dataset to identify the most suitable classifier among the following:\n",
    "        - DecisionTree classifier (set the maximum depth of the tree equal to 3)\n",
    "        - DecisionTree classifier (set the maximum depth of the tree equal to 3) after oversampling with SMOTE\n",
    "        - KNearestNeighbor classifier (default params)\n",
    "        - KNearestNeighbor classifier (default params) after oversampling with SMOTE\n",
    "    - Report and discuss the results, motivating the choice of the most suitable model\n",
    "6. Evaluate and discuss results on the test set:\n",
    "    - Train the selected model on the training set: *blood_train.csv*\n",
    "    - Import the test set: *blood_test.csv*\n",
    "    - Report and discuss the results on the test set"
   ]
  },
  {
   "cell_type": "markdown",
   "id": "30171bc5",
   "metadata": {},
   "source": [
    "# 1. Import the training set: *blood_train.csv*\n",
    "- drop the SubjectID column\n"
   ]
  },
  {
   "cell_type": "code",
   "execution_count": 5,
   "id": "7bc1e477",
   "metadata": {},
   "outputs": [],
   "source": [
    "import pandas as pd\n",
    "import numpy as np\n",
    "import seaborn as sns\n",
    "from matplotlib import pyplot as plt"
   ]
  },
  {
   "cell_type": "code",
   "execution_count": 6,
   "id": "7bd596b2-bdbf-4c0e-8919-6739966f94ae",
   "metadata": {},
   "outputs": [
    {
     "data": {
      "text/html": [
       "<div>\n",
       "<style scoped>\n",
       "    .dataframe tbody tr th:only-of-type {\n",
       "        vertical-align: middle;\n",
       "    }\n",
       "\n",
       "    .dataframe tbody tr th {\n",
       "        vertical-align: top;\n",
       "    }\n",
       "\n",
       "    .dataframe thead th {\n",
       "        text-align: right;\n",
       "    }\n",
       "</style>\n",
       "<table border=\"1\" class=\"dataframe\">\n",
       "  <thead>\n",
       "    <tr style=\"text-align: right;\">\n",
       "      <th></th>\n",
       "      <th>SubjectID</th>\n",
       "      <th>Recency (months)</th>\n",
       "      <th>Frequency (times)</th>\n",
       "      <th>Monetary (c.c. blood)</th>\n",
       "      <th>Time (months)</th>\n",
       "      <th>whether he/she donated blood in March 2007</th>\n",
       "    </tr>\n",
       "  </thead>\n",
       "  <tbody>\n",
       "    <tr>\n",
       "      <th>0</th>\n",
       "      <td>0</td>\n",
       "      <td>2</td>\n",
       "      <td>50</td>\n",
       "      <td>12500</td>\n",
       "      <td>98</td>\n",
       "      <td>1</td>\n",
       "    </tr>\n",
       "    <tr>\n",
       "      <th>1</th>\n",
       "      <td>1</td>\n",
       "      <td>0</td>\n",
       "      <td>13</td>\n",
       "      <td>3250</td>\n",
       "      <td>28</td>\n",
       "      <td>1</td>\n",
       "    </tr>\n",
       "    <tr>\n",
       "      <th>2</th>\n",
       "      <td>2</td>\n",
       "      <td>1</td>\n",
       "      <td>16</td>\n",
       "      <td>4000</td>\n",
       "      <td>35</td>\n",
       "      <td>1</td>\n",
       "    </tr>\n",
       "    <tr>\n",
       "      <th>3</th>\n",
       "      <td>3</td>\n",
       "      <td>2</td>\n",
       "      <td>20</td>\n",
       "      <td>5000</td>\n",
       "      <td>45</td>\n",
       "      <td>1</td>\n",
       "    </tr>\n",
       "    <tr>\n",
       "      <th>4</th>\n",
       "      <td>4</td>\n",
       "      <td>1</td>\n",
       "      <td>24</td>\n",
       "      <td>6000</td>\n",
       "      <td>77</td>\n",
       "      <td>0</td>\n",
       "    </tr>\n",
       "    <tr>\n",
       "      <th>...</th>\n",
       "      <td>...</td>\n",
       "      <td>...</td>\n",
       "      <td>...</td>\n",
       "      <td>...</td>\n",
       "      <td>...</td>\n",
       "      <td>...</td>\n",
       "    </tr>\n",
       "    <tr>\n",
       "      <th>668</th>\n",
       "      <td>743</td>\n",
       "      <td>23</td>\n",
       "      <td>2</td>\n",
       "      <td>500</td>\n",
       "      <td>38</td>\n",
       "      <td>0</td>\n",
       "    </tr>\n",
       "    <tr>\n",
       "      <th>669</th>\n",
       "      <td>744</td>\n",
       "      <td>21</td>\n",
       "      <td>2</td>\n",
       "      <td>500</td>\n",
       "      <td>52</td>\n",
       "      <td>0</td>\n",
       "    </tr>\n",
       "    <tr>\n",
       "      <th>670</th>\n",
       "      <td>745</td>\n",
       "      <td>23</td>\n",
       "      <td>3</td>\n",
       "      <td>750</td>\n",
       "      <td>62</td>\n",
       "      <td>0</td>\n",
       "    </tr>\n",
       "    <tr>\n",
       "      <th>671</th>\n",
       "      <td>746</td>\n",
       "      <td>39</td>\n",
       "      <td>1</td>\n",
       "      <td>250</td>\n",
       "      <td>39</td>\n",
       "      <td>0</td>\n",
       "    </tr>\n",
       "    <tr>\n",
       "      <th>672</th>\n",
       "      <td>747</td>\n",
       "      <td>72</td>\n",
       "      <td>1</td>\n",
       "      <td>250</td>\n",
       "      <td>72</td>\n",
       "      <td>0</td>\n",
       "    </tr>\n",
       "  </tbody>\n",
       "</table>\n",
       "<p>673 rows × 6 columns</p>\n",
       "</div>"
      ],
      "text/plain": [
       "     SubjectID  Recency (months)  Frequency (times)  Monetary (c.c. blood)  \\\n",
       "0            0                 2                 50                  12500   \n",
       "1            1                 0                 13                   3250   \n",
       "2            2                 1                 16                   4000   \n",
       "3            3                 2                 20                   5000   \n",
       "4            4                 1                 24                   6000   \n",
       "..         ...               ...                ...                    ...   \n",
       "668        743                23                  2                    500   \n",
       "669        744                21                  2                    500   \n",
       "670        745                23                  3                    750   \n",
       "671        746                39                  1                    250   \n",
       "672        747                72                  1                    250   \n",
       "\n",
       "     Time (months)  whether he/she donated blood in March 2007  \n",
       "0               98                                           1  \n",
       "1               28                                           1  \n",
       "2               35                                           1  \n",
       "3               45                                           1  \n",
       "4               77                                           0  \n",
       "..             ...                                         ...  \n",
       "668             38                                           0  \n",
       "669             52                                           0  \n",
       "670             62                                           0  \n",
       "671             39                                           0  \n",
       "672             72                                           0  \n",
       "\n",
       "[673 rows x 6 columns]"
      ]
     },
     "execution_count": 6,
     "metadata": {},
     "output_type": "execute_result"
    }
   ],
   "source": [
    "df=pd.read_csv(\"blood_train 1.csv\")\n",
    "df"
   ]
  },
  {
   "cell_type": "code",
   "execution_count": 7,
   "id": "5b722019-e72c-45e7-8b56-1dd5baebf2eb",
   "metadata": {},
   "outputs": [
    {
     "data": {
      "text/html": [
       "<div>\n",
       "<style scoped>\n",
       "    .dataframe tbody tr th:only-of-type {\n",
       "        vertical-align: middle;\n",
       "    }\n",
       "\n",
       "    .dataframe tbody tr th {\n",
       "        vertical-align: top;\n",
       "    }\n",
       "\n",
       "    .dataframe thead th {\n",
       "        text-align: right;\n",
       "    }\n",
       "</style>\n",
       "<table border=\"1\" class=\"dataframe\">\n",
       "  <thead>\n",
       "    <tr style=\"text-align: right;\">\n",
       "      <th></th>\n",
       "      <th>Recency (months)</th>\n",
       "      <th>Frequency (times)</th>\n",
       "      <th>Monetary (c.c. blood)</th>\n",
       "      <th>Time (months)</th>\n",
       "      <th>whether he/she donated blood in March 2007</th>\n",
       "    </tr>\n",
       "  </thead>\n",
       "  <tbody>\n",
       "    <tr>\n",
       "      <th>0</th>\n",
       "      <td>2</td>\n",
       "      <td>50</td>\n",
       "      <td>12500</td>\n",
       "      <td>98</td>\n",
       "      <td>1</td>\n",
       "    </tr>\n",
       "    <tr>\n",
       "      <th>1</th>\n",
       "      <td>0</td>\n",
       "      <td>13</td>\n",
       "      <td>3250</td>\n",
       "      <td>28</td>\n",
       "      <td>1</td>\n",
       "    </tr>\n",
       "    <tr>\n",
       "      <th>2</th>\n",
       "      <td>1</td>\n",
       "      <td>16</td>\n",
       "      <td>4000</td>\n",
       "      <td>35</td>\n",
       "      <td>1</td>\n",
       "    </tr>\n",
       "    <tr>\n",
       "      <th>3</th>\n",
       "      <td>2</td>\n",
       "      <td>20</td>\n",
       "      <td>5000</td>\n",
       "      <td>45</td>\n",
       "      <td>1</td>\n",
       "    </tr>\n",
       "    <tr>\n",
       "      <th>4</th>\n",
       "      <td>1</td>\n",
       "      <td>24</td>\n",
       "      <td>6000</td>\n",
       "      <td>77</td>\n",
       "      <td>0</td>\n",
       "    </tr>\n",
       "    <tr>\n",
       "      <th>...</th>\n",
       "      <td>...</td>\n",
       "      <td>...</td>\n",
       "      <td>...</td>\n",
       "      <td>...</td>\n",
       "      <td>...</td>\n",
       "    </tr>\n",
       "    <tr>\n",
       "      <th>668</th>\n",
       "      <td>23</td>\n",
       "      <td>2</td>\n",
       "      <td>500</td>\n",
       "      <td>38</td>\n",
       "      <td>0</td>\n",
       "    </tr>\n",
       "    <tr>\n",
       "      <th>669</th>\n",
       "      <td>21</td>\n",
       "      <td>2</td>\n",
       "      <td>500</td>\n",
       "      <td>52</td>\n",
       "      <td>0</td>\n",
       "    </tr>\n",
       "    <tr>\n",
       "      <th>670</th>\n",
       "      <td>23</td>\n",
       "      <td>3</td>\n",
       "      <td>750</td>\n",
       "      <td>62</td>\n",
       "      <td>0</td>\n",
       "    </tr>\n",
       "    <tr>\n",
       "      <th>671</th>\n",
       "      <td>39</td>\n",
       "      <td>1</td>\n",
       "      <td>250</td>\n",
       "      <td>39</td>\n",
       "      <td>0</td>\n",
       "    </tr>\n",
       "    <tr>\n",
       "      <th>672</th>\n",
       "      <td>72</td>\n",
       "      <td>1</td>\n",
       "      <td>250</td>\n",
       "      <td>72</td>\n",
       "      <td>0</td>\n",
       "    </tr>\n",
       "  </tbody>\n",
       "</table>\n",
       "<p>673 rows × 5 columns</p>\n",
       "</div>"
      ],
      "text/plain": [
       "     Recency (months)  Frequency (times)  Monetary (c.c. blood)  \\\n",
       "0                   2                 50                  12500   \n",
       "1                   0                 13                   3250   \n",
       "2                   1                 16                   4000   \n",
       "3                   2                 20                   5000   \n",
       "4                   1                 24                   6000   \n",
       "..                ...                ...                    ...   \n",
       "668                23                  2                    500   \n",
       "669                21                  2                    500   \n",
       "670                23                  3                    750   \n",
       "671                39                  1                    250   \n",
       "672                72                  1                    250   \n",
       "\n",
       "     Time (months)  whether he/she donated blood in March 2007  \n",
       "0               98                                           1  \n",
       "1               28                                           1  \n",
       "2               35                                           1  \n",
       "3               45                                           1  \n",
       "4               77                                           0  \n",
       "..             ...                                         ...  \n",
       "668             38                                           0  \n",
       "669             52                                           0  \n",
       "670             62                                           0  \n",
       "671             39                                           0  \n",
       "672             72                                           0  \n",
       "\n",
       "[673 rows x 5 columns]"
      ]
     },
     "execution_count": 7,
     "metadata": {},
     "output_type": "execute_result"
    }
   ],
   "source": [
    "df=df.drop(\"SubjectID\", axis=1)\n",
    "df"
   ]
  },
  {
   "cell_type": "markdown",
   "id": "1aa9bb8d-b7b8-4489-aefe-cee7013804d2",
   "metadata": {},
   "source": [
    "After having dropped \"ID\" column we have\n",
    "- **673** observations\n",
    "- **5** attributes"
   ]
  },
  {
   "cell_type": "markdown",
   "id": "6193b5ee",
   "metadata": {},
   "source": [
    "# 2. Perform an **exploratory analysis**\n",
    "- Report and discuss the results of the analysis.\n",
    "\n"
   ]
  },
  {
   "cell_type": "code",
   "execution_count": 10,
   "id": "ea7f2c69",
   "metadata": {},
   "outputs": [
    {
     "data": {
      "text/html": [
       "<div>\n",
       "<style scoped>\n",
       "    .dataframe tbody tr th:only-of-type {\n",
       "        vertical-align: middle;\n",
       "    }\n",
       "\n",
       "    .dataframe tbody tr th {\n",
       "        vertical-align: top;\n",
       "    }\n",
       "\n",
       "    .dataframe thead th {\n",
       "        text-align: right;\n",
       "    }\n",
       "</style>\n",
       "<table border=\"1\" class=\"dataframe\">\n",
       "  <thead>\n",
       "    <tr style=\"text-align: right;\">\n",
       "      <th></th>\n",
       "      <th>Recency (months)</th>\n",
       "      <th>Frequency (times)</th>\n",
       "      <th>Monetary (c.c. blood)</th>\n",
       "      <th>Time (months)</th>\n",
       "      <th>whether he/she donated blood in March 2007</th>\n",
       "    </tr>\n",
       "  </thead>\n",
       "  <tbody>\n",
       "    <tr>\n",
       "      <th>count</th>\n",
       "      <td>673.000000</td>\n",
       "      <td>673.000000</td>\n",
       "      <td>673.000000</td>\n",
       "      <td>673.000000</td>\n",
       "      <td>673.000000</td>\n",
       "    </tr>\n",
       "    <tr>\n",
       "      <th>mean</th>\n",
       "      <td>9.526003</td>\n",
       "      <td>5.542348</td>\n",
       "      <td>1385.586924</td>\n",
       "      <td>34.093611</td>\n",
       "      <td>0.237741</td>\n",
       "    </tr>\n",
       "    <tr>\n",
       "      <th>std</th>\n",
       "      <td>8.162942</td>\n",
       "      <td>5.995663</td>\n",
       "      <td>1498.915875</td>\n",
       "      <td>24.302505</td>\n",
       "      <td>0.426017</td>\n",
       "    </tr>\n",
       "    <tr>\n",
       "      <th>min</th>\n",
       "      <td>0.000000</td>\n",
       "      <td>1.000000</td>\n",
       "      <td>250.000000</td>\n",
       "      <td>2.000000</td>\n",
       "      <td>0.000000</td>\n",
       "    </tr>\n",
       "    <tr>\n",
       "      <th>25%</th>\n",
       "      <td>3.000000</td>\n",
       "      <td>2.000000</td>\n",
       "      <td>500.000000</td>\n",
       "      <td>16.000000</td>\n",
       "      <td>0.000000</td>\n",
       "    </tr>\n",
       "    <tr>\n",
       "      <th>50%</th>\n",
       "      <td>8.000000</td>\n",
       "      <td>4.000000</td>\n",
       "      <td>1000.000000</td>\n",
       "      <td>28.000000</td>\n",
       "      <td>0.000000</td>\n",
       "    </tr>\n",
       "    <tr>\n",
       "      <th>75%</th>\n",
       "      <td>14.000000</td>\n",
       "      <td>7.000000</td>\n",
       "      <td>1750.000000</td>\n",
       "      <td>49.000000</td>\n",
       "      <td>0.000000</td>\n",
       "    </tr>\n",
       "    <tr>\n",
       "      <th>max</th>\n",
       "      <td>74.000000</td>\n",
       "      <td>50.000000</td>\n",
       "      <td>12500.000000</td>\n",
       "      <td>98.000000</td>\n",
       "      <td>1.000000</td>\n",
       "    </tr>\n",
       "  </tbody>\n",
       "</table>\n",
       "</div>"
      ],
      "text/plain": [
       "       Recency (months)  Frequency (times)  Monetary (c.c. blood)  \\\n",
       "count        673.000000         673.000000             673.000000   \n",
       "mean           9.526003           5.542348            1385.586924   \n",
       "std            8.162942           5.995663            1498.915875   \n",
       "min            0.000000           1.000000             250.000000   \n",
       "25%            3.000000           2.000000             500.000000   \n",
       "50%            8.000000           4.000000            1000.000000   \n",
       "75%           14.000000           7.000000            1750.000000   \n",
       "max           74.000000          50.000000           12500.000000   \n",
       "\n",
       "       Time (months)  whether he/she donated blood in March 2007  \n",
       "count     673.000000                                  673.000000  \n",
       "mean       34.093611                                    0.237741  \n",
       "std        24.302505                                    0.426017  \n",
       "min         2.000000                                    0.000000  \n",
       "25%        16.000000                                    0.000000  \n",
       "50%        28.000000                                    0.000000  \n",
       "75%        49.000000                                    0.000000  \n",
       "max        98.000000                                    1.000000  "
      ]
     },
     "execution_count": 10,
     "metadata": {},
     "output_type": "execute_result"
    }
   ],
   "source": [
    "df.describe()"
   ]
  },
  {
   "cell_type": "code",
   "execution_count": 11,
   "id": "5d5e6b1f-4d21-4c7d-a5f7-fea2eaa27885",
   "metadata": {},
   "outputs": [
    {
     "name": "stdout",
     "output_type": "stream",
     "text": [
      "<class 'pandas.core.frame.DataFrame'>\n",
      "RangeIndex: 673 entries, 0 to 672\n",
      "Data columns (total 5 columns):\n",
      " #   Column                                      Non-Null Count  Dtype\n",
      "---  ------                                      --------------  -----\n",
      " 0   Recency (months)                            673 non-null    int64\n",
      " 1   Frequency (times)                           673 non-null    int64\n",
      " 2   Monetary (c.c. blood)                       673 non-null    int64\n",
      " 3   Time (months)                               673 non-null    int64\n",
      " 4   whether he/she donated blood in March 2007  673 non-null    int64\n",
      "dtypes: int64(5)\n",
      "memory usage: 26.4 KB\n"
     ]
    }
   ],
   "source": [
    "df.info()"
   ]
  },
  {
   "cell_type": "markdown",
   "id": "b46b19b6-b1e8-4a06-9075-5d1ef450e5b2",
   "metadata": {},
   "source": [
    "Check for **NaN** values"
   ]
  },
  {
   "cell_type": "code",
   "execution_count": 13,
   "id": "a4faa76e-5154-47f2-94c0-7ef4c6053a26",
   "metadata": {},
   "outputs": [
    {
     "data": {
      "text/plain": [
       "Recency (months)                              0\n",
       "Frequency (times)                             0\n",
       "Monetary (c.c. blood)                         0\n",
       "Time (months)                                 0\n",
       "whether he/she donated blood in March 2007    0\n",
       "dtype: int64"
      ]
     },
     "execution_count": 13,
     "metadata": {},
     "output_type": "execute_result"
    }
   ],
   "source": [
    "df.isna().sum()"
   ]
  },
  {
   "cell_type": "markdown",
   "id": "01058030-6cf8-4ce1-899b-47ffbe8c6259",
   "metadata": {},
   "source": [
    "Check if we have strange values within the attributes"
   ]
  },
  {
   "cell_type": "code",
   "execution_count": 15,
   "id": "75f1f375-9cce-481d-9b81-1f804b04c5b6",
   "metadata": {},
   "outputs": [
    {
     "name": "stdout",
     "output_type": "stream",
     "text": [
      "Recency (months)\n",
      "2     156\n",
      "4     138\n",
      "11     76\n",
      "14     68\n",
      "16     58\n",
      "23     42\n",
      "21     40\n",
      "9      19\n",
      "3      12\n",
      "1       8\n",
      "7       8\n",
      "8       6\n",
      "12      6\n",
      "6       5\n",
      "13      5\n",
      "5       5\n",
      "0       4\n",
      "38      2\n",
      "15      2\n",
      "10      2\n",
      "74      1\n",
      "39      1\n",
      "25      1\n",
      "17      1\n",
      "20      1\n",
      "18      1\n",
      "40      1\n",
      "35      1\n",
      "26      1\n",
      "22      1\n",
      "72      1\n",
      "Name: count, dtype: int64\n",
      "Frequency (times)\n",
      "1     142\n",
      "2     104\n",
      "3      77\n",
      "4      59\n",
      "5      54\n",
      "6      49\n",
      "7      34\n",
      "8      25\n",
      "9      21\n",
      "11     19\n",
      "10     14\n",
      "16     13\n",
      "12     13\n",
      "14     12\n",
      "13      8\n",
      "15      5\n",
      "24      3\n",
      "17      3\n",
      "19      2\n",
      "20      2\n",
      "22      2\n",
      "34      1\n",
      "41      1\n",
      "21      1\n",
      "26      1\n",
      "44      1\n",
      "50      1\n",
      "43      1\n",
      "38      1\n",
      "18      1\n",
      "23      1\n",
      "46      1\n",
      "33      1\n",
      "Name: count, dtype: int64\n",
      "Monetary (c.c. blood)\n",
      "250      142\n",
      "500      104\n",
      "750       77\n",
      "1000      59\n",
      "1250      54\n",
      "1500      49\n",
      "1750      34\n",
      "2000      25\n",
      "2250      21\n",
      "2750      19\n",
      "2500      14\n",
      "4000      13\n",
      "3000      13\n",
      "3500      12\n",
      "3250       8\n",
      "3750       5\n",
      "6000       3\n",
      "4250       3\n",
      "4750       2\n",
      "5000       2\n",
      "5500       2\n",
      "8500       1\n",
      "10250      1\n",
      "5250       1\n",
      "6500       1\n",
      "11000      1\n",
      "12500      1\n",
      "10750      1\n",
      "9500       1\n",
      "4500       1\n",
      "5750       1\n",
      "11500      1\n",
      "8250       1\n",
      "Name: count, dtype: int64\n",
      "Time (months)\n",
      "4     51\n",
      "16    50\n",
      "14    40\n",
      "26    33\n",
      "23    33\n",
      "      ..\n",
      "55     1\n",
      "3      1\n",
      "13     1\n",
      "54     1\n",
      "78     1\n",
      "Name: count, Length: 78, dtype: int64\n",
      "whether he/she donated blood in March 2007\n",
      "0    513\n",
      "1    160\n",
      "Name: count, dtype: int64\n"
     ]
    }
   ],
   "source": [
    "for col in df.columns:\n",
    "    print(df[col].value_counts())"
   ]
  },
  {
   "cell_type": "markdown",
   "id": "d68e057a-de22-4ed7-ae9b-0241f0e3a62a",
   "metadata": {},
   "source": [
    "## Check for imbalancing in the target variable"
   ]
  },
  {
   "cell_type": "code",
   "execution_count": 17,
   "id": "05e8bd71-5e65-405f-8f8b-61c4993b56a8",
   "metadata": {},
   "outputs": [
    {
     "name": "stdout",
     "output_type": "stream",
     "text": [
      "<class 'pandas.core.frame.DataFrame'>\n",
      "RangeIndex: 673 entries, 0 to 672\n",
      "Data columns (total 5 columns):\n",
      " #   Column                 Non-Null Count  Dtype\n",
      "---  ------                 --------------  -----\n",
      " 0   Recency (months)       673 non-null    int64\n",
      " 1   Frequency (times)      673 non-null    int64\n",
      " 2   Monetary (c.c. blood)  673 non-null    int64\n",
      " 3   Time (months)          673 non-null    int64\n",
      " 4   BinaryStatus           673 non-null    int64\n",
      "dtypes: int64(5)\n",
      "memory usage: 26.4 KB\n"
     ]
    }
   ],
   "source": [
    "df.rename(columns={'whether he/she donated blood in March 2007': 'BinaryStatus'}, inplace=True)\n",
    "df.info()"
   ]
  },
  {
   "cell_type": "code",
   "execution_count": 18,
   "id": "7d647f99-1ab4-4cc7-be2d-1521145a457f",
   "metadata": {},
   "outputs": [
    {
     "data": {
      "text/plain": [
       "BinaryStatus\n",
       "0    0.762259\n",
       "1    0.237741\n",
       "Name: proportion, dtype: float64"
      ]
     },
     "execution_count": 18,
     "metadata": {},
     "output_type": "execute_result"
    }
   ],
   "source": [
    "df[\"BinaryStatus\"].value_counts(normalize=True)"
   ]
  },
  {
   "cell_type": "markdown",
   "id": "ec994119-5f5d-4057-a945-2eab689d2955",
   "metadata": {},
   "source": [
    "The target variable is imbalanced toward the **0** values (negative value) namely \"not donating blood\""
   ]
  },
  {
   "cell_type": "markdown",
   "id": "9dff9f28-6d6b-425f-ab01-4a37cf923e61",
   "metadata": {},
   "source": [
    "## INDEPENDENT variables"
   ]
  },
  {
   "cell_type": "code",
   "execution_count": 21,
   "id": "95fb4195-0b2a-4128-88f8-2f8408f9edac",
   "metadata": {},
   "outputs": [
    {
     "data": {
      "text/html": [
       "<div>\n",
       "<style scoped>\n",
       "    .dataframe tbody tr th:only-of-type {\n",
       "        vertical-align: middle;\n",
       "    }\n",
       "\n",
       "    .dataframe tbody tr th {\n",
       "        vertical-align: top;\n",
       "    }\n",
       "\n",
       "    .dataframe thead th {\n",
       "        text-align: right;\n",
       "    }\n",
       "</style>\n",
       "<table border=\"1\" class=\"dataframe\">\n",
       "  <thead>\n",
       "    <tr style=\"text-align: right;\">\n",
       "      <th></th>\n",
       "      <th>Recency (months)</th>\n",
       "      <th>Frequency (times)</th>\n",
       "      <th>Monetary (c.c. blood)</th>\n",
       "      <th>Time (months)</th>\n",
       "    </tr>\n",
       "  </thead>\n",
       "  <tbody>\n",
       "    <tr>\n",
       "      <th>0</th>\n",
       "      <td>2</td>\n",
       "      <td>50</td>\n",
       "      <td>12500</td>\n",
       "      <td>98</td>\n",
       "    </tr>\n",
       "    <tr>\n",
       "      <th>1</th>\n",
       "      <td>0</td>\n",
       "      <td>13</td>\n",
       "      <td>3250</td>\n",
       "      <td>28</td>\n",
       "    </tr>\n",
       "    <tr>\n",
       "      <th>2</th>\n",
       "      <td>1</td>\n",
       "      <td>16</td>\n",
       "      <td>4000</td>\n",
       "      <td>35</td>\n",
       "    </tr>\n",
       "    <tr>\n",
       "      <th>3</th>\n",
       "      <td>2</td>\n",
       "      <td>20</td>\n",
       "      <td>5000</td>\n",
       "      <td>45</td>\n",
       "    </tr>\n",
       "    <tr>\n",
       "      <th>4</th>\n",
       "      <td>1</td>\n",
       "      <td>24</td>\n",
       "      <td>6000</td>\n",
       "      <td>77</td>\n",
       "    </tr>\n",
       "    <tr>\n",
       "      <th>...</th>\n",
       "      <td>...</td>\n",
       "      <td>...</td>\n",
       "      <td>...</td>\n",
       "      <td>...</td>\n",
       "    </tr>\n",
       "    <tr>\n",
       "      <th>668</th>\n",
       "      <td>23</td>\n",
       "      <td>2</td>\n",
       "      <td>500</td>\n",
       "      <td>38</td>\n",
       "    </tr>\n",
       "    <tr>\n",
       "      <th>669</th>\n",
       "      <td>21</td>\n",
       "      <td>2</td>\n",
       "      <td>500</td>\n",
       "      <td>52</td>\n",
       "    </tr>\n",
       "    <tr>\n",
       "      <th>670</th>\n",
       "      <td>23</td>\n",
       "      <td>3</td>\n",
       "      <td>750</td>\n",
       "      <td>62</td>\n",
       "    </tr>\n",
       "    <tr>\n",
       "      <th>671</th>\n",
       "      <td>39</td>\n",
       "      <td>1</td>\n",
       "      <td>250</td>\n",
       "      <td>39</td>\n",
       "    </tr>\n",
       "    <tr>\n",
       "      <th>672</th>\n",
       "      <td>72</td>\n",
       "      <td>1</td>\n",
       "      <td>250</td>\n",
       "      <td>72</td>\n",
       "    </tr>\n",
       "  </tbody>\n",
       "</table>\n",
       "<p>673 rows × 4 columns</p>\n",
       "</div>"
      ],
      "text/plain": [
       "     Recency (months)  Frequency (times)  Monetary (c.c. blood)  Time (months)\n",
       "0                   2                 50                  12500             98\n",
       "1                   0                 13                   3250             28\n",
       "2                   1                 16                   4000             35\n",
       "3                   2                 20                   5000             45\n",
       "4                   1                 24                   6000             77\n",
       "..                ...                ...                    ...            ...\n",
       "668                23                  2                    500             38\n",
       "669                21                  2                    500             52\n",
       "670                23                  3                    750             62\n",
       "671                39                  1                    250             39\n",
       "672                72                  1                    250             72\n",
       "\n",
       "[673 rows x 4 columns]"
      ]
     },
     "execution_count": 21,
     "metadata": {},
     "output_type": "execute_result"
    }
   ],
   "source": [
    "X=df.drop(\"BinaryStatus\", axis=1)\n",
    "X"
   ]
  },
  {
   "cell_type": "markdown",
   "id": "97f58188-cd86-47a0-9076-63c051ede421",
   "metadata": {},
   "source": [
    "- **HISTOGRAMS**"
   ]
  },
  {
   "cell_type": "code",
   "execution_count": 23,
   "id": "9d068e86-c415-46d8-b4c0-d05e3cf09b46",
   "metadata": {},
   "outputs": [
    {
     "data": {
      "image/png": "[encoded data removed]",
      "text/plain": [
       "<Figure size 2000x500 with 4 Axes>"
      ]
     },
     "metadata": {},
     "output_type": "display_data"
    }
   ],
   "source": [
    "df.drop(\"BinaryStatus\", axis=1).hist(bins = 5,\n",
    "         layout = (1, 4),\n",
    "         figsize = (20, 5))\n",
    "plt.show()"
   ]
  },
  {
   "cell_type": "markdown",
   "id": "22c80fe4-8c02-4e98-bf20-6e503d131a5f",
   "metadata": {},
   "source": [
    "- **BOXPLOT**"
   ]
  },
  {
   "cell_type": "code",
   "execution_count": 25,
   "id": "1f7a33b2-f503-40eb-91f4-04fc739703d7",
   "metadata": {},
   "outputs": [
    {
     "data": {
      "image/png": "[encoded data removed]",
      "text/plain": [
       "<Figure size 2000x500 with 4 Axes>"
      ]
     },
     "metadata": {},
     "output_type": "display_data"
    }
   ],
   "source": [
    "df.drop('BinaryStatus', axis = 1).plot(kind ='box', subplots = True, figsize = (20, 5), layout = (1, 4),sharey = False)\n",
    "plt.show()"
   ]
  },
  {
   "cell_type": "markdown",
   "id": "61a767cc-d33b-40bc-ad38-1a230e7bdb0e",
   "metadata": {},
   "source": [
    "- **CORRELATION MATRIX**"
   ]
  },
  {
   "cell_type": "code",
   "execution_count": 27,
   "id": "4a029e0c-96ae-46b8-ada9-5ca2fbd7de44",
   "metadata": {},
   "outputs": [
    {
     "data": {
      "image/png": "[encoded data removed]",
      "text/plain": [
       "<Figure size 1000x800 with 2 Axes>"
      ]
     },
     "metadata": {},
     "output_type": "display_data"
    }
   ],
   "source": [
    "f, ax = plt.subplots(figsize = (10, 8))\n",
    "sns.heatmap(df.drop('BinaryStatus', axis = 1).corr(),  #2D DATA we want to use (Correlation Matrix)\n",
    "            annot = True,                            #IF TRUE write the HeatMap with the numerical value within the cells\n",
    "            linewidths = .5,                         #The WIDTH of the LINES that divide each square\n",
    "            fmt = '.2f',                             #FORMATTING the text within the cells; in this case '.2f' we have 2 decimals; it is used when \"annot=True\"\n",
    "            ax = ax,                                 #The AXIS where to plot the heatmap\n",
    "            vmin = -1,                               #MIN value for the colors in the heatmap\n",
    "            vmax = 1,                                #MAX value for the colors in the heatmap\n",
    "            cmap = \"coolwarm\")                       #COLORMAP to use\n",
    "plt.show()"
   ]
  },
  {
   "cell_type": "markdown",
   "id": "8c9ff248-3372-4db0-ae5d-70020448a002",
   "metadata": {},
   "source": [
    "We have a perfect correlation between **\"Frequency (times)\"** and **\"Monetary (c.c. blood)\"** so we can decide to drop one of the two columns.\n",
    "\n",
    "We are going to drop **\"Frequency (times)\"**"
   ]
  },
  {
   "cell_type": "code",
   "execution_count": 29,
   "id": "887380d4-b8ff-4621-8ed7-7a6a7b3c48fe",
   "metadata": {},
   "outputs": [
    {
     "data": {
      "text/html": [
       "<div>\n",
       "<style scoped>\n",
       "    .dataframe tbody tr th:only-of-type {\n",
       "        vertical-align: middle;\n",
       "    }\n",
       "\n",
       "    .dataframe tbody tr th {\n",
       "        vertical-align: top;\n",
       "    }\n",
       "\n",
       "    .dataframe thead th {\n",
       "        text-align: right;\n",
       "    }\n",
       "</style>\n",
       "<table border=\"1\" class=\"dataframe\">\n",
       "  <thead>\n",
       "    <tr style=\"text-align: right;\">\n",
       "      <th></th>\n",
       "      <th>Recency (months)</th>\n",
       "      <th>Monetary (c.c. blood)</th>\n",
       "      <th>Time (months)</th>\n",
       "      <th>BinaryStatus</th>\n",
       "    </tr>\n",
       "  </thead>\n",
       "  <tbody>\n",
       "    <tr>\n",
       "      <th>0</th>\n",
       "      <td>2</td>\n",
       "      <td>12500</td>\n",
       "      <td>98</td>\n",
       "      <td>1</td>\n",
       "    </tr>\n",
       "    <tr>\n",
       "      <th>1</th>\n",
       "      <td>0</td>\n",
       "      <td>3250</td>\n",
       "      <td>28</td>\n",
       "      <td>1</td>\n",
       "    </tr>\n",
       "    <tr>\n",
       "      <th>2</th>\n",
       "      <td>1</td>\n",
       "      <td>4000</td>\n",
       "      <td>35</td>\n",
       "      <td>1</td>\n",
       "    </tr>\n",
       "    <tr>\n",
       "      <th>3</th>\n",
       "      <td>2</td>\n",
       "      <td>5000</td>\n",
       "      <td>45</td>\n",
       "      <td>1</td>\n",
       "    </tr>\n",
       "    <tr>\n",
       "      <th>4</th>\n",
       "      <td>1</td>\n",
       "      <td>6000</td>\n",
       "      <td>77</td>\n",
       "      <td>0</td>\n",
       "    </tr>\n",
       "    <tr>\n",
       "      <th>...</th>\n",
       "      <td>...</td>\n",
       "      <td>...</td>\n",
       "      <td>...</td>\n",
       "      <td>...</td>\n",
       "    </tr>\n",
       "    <tr>\n",
       "      <th>668</th>\n",
       "      <td>23</td>\n",
       "      <td>500</td>\n",
       "      <td>38</td>\n",
       "      <td>0</td>\n",
       "    </tr>\n",
       "    <tr>\n",
       "      <th>669</th>\n",
       "      <td>21</td>\n",
       "      <td>500</td>\n",
       "      <td>52</td>\n",
       "      <td>0</td>\n",
       "    </tr>\n",
       "    <tr>\n",
       "      <th>670</th>\n",
       "      <td>23</td>\n",
       "      <td>750</td>\n",
       "      <td>62</td>\n",
       "      <td>0</td>\n",
       "    </tr>\n",
       "    <tr>\n",
       "      <th>671</th>\n",
       "      <td>39</td>\n",
       "      <td>250</td>\n",
       "      <td>39</td>\n",
       "      <td>0</td>\n",
       "    </tr>\n",
       "    <tr>\n",
       "      <th>672</th>\n",
       "      <td>72</td>\n",
       "      <td>250</td>\n",
       "      <td>72</td>\n",
       "      <td>0</td>\n",
       "    </tr>\n",
       "  </tbody>\n",
       "</table>\n",
       "<p>673 rows × 4 columns</p>\n",
       "</div>"
      ],
      "text/plain": [
       "     Recency (months)  Monetary (c.c. blood)  Time (months)  BinaryStatus\n",
       "0                   2                  12500             98             1\n",
       "1                   0                   3250             28             1\n",
       "2                   1                   4000             35             1\n",
       "3                   2                   5000             45             1\n",
       "4                   1                   6000             77             0\n",
       "..                ...                    ...            ...           ...\n",
       "668                23                    500             38             0\n",
       "669                21                    500             52             0\n",
       "670                23                    750             62             0\n",
       "671                39                    250             39             0\n",
       "672                72                    250             72             0\n",
       "\n",
       "[673 rows x 4 columns]"
      ]
     },
     "execution_count": 29,
     "metadata": {},
     "output_type": "execute_result"
    }
   ],
   "source": [
    "df_corr=df.drop(\"Frequency (times)\", axis=1).copy()\n",
    "df_corr"
   ]
  },
  {
   "cell_type": "code",
   "execution_count": 30,
   "id": "529f98f9-f0d1-45c8-9fe0-7a0469044bb5",
   "metadata": {},
   "outputs": [],
   "source": [
    "X_corr=df_corr.drop(\"BinaryStatus\", axis=1)"
   ]
  },
  {
   "cell_type": "markdown",
   "id": "0b089f3a-4874-4413-b3e7-35b9c0e75790",
   "metadata": {},
   "source": [
    "## DEFINE \"y\""
   ]
  },
  {
   "cell_type": "code",
   "execution_count": 32,
   "id": "1aa175c3-94b5-4797-96fe-cb883b968832",
   "metadata": {},
   "outputs": [
    {
     "data": {
      "text/plain": [
       "BinaryStatus\n",
       "0    513\n",
       "1    160\n",
       "Name: count, dtype: int64"
      ]
     },
     "execution_count": 32,
     "metadata": {},
     "output_type": "execute_result"
    }
   ],
   "source": [
    "y=df[\"BinaryStatus\"]\n",
    "y.value_counts()"
   ]
  },
  {
   "cell_type": "markdown",
   "id": "26a0ffc0",
   "metadata": {},
   "source": [
    "# 3. Perform the **required preprocessing steps** and carry out a **classification analysis** aimed at predicting the **target variable** considering the following setting:\n",
    "- Create a \"dummy\" classifier, that is, a baseline that ignore the input features and simply always predicts the most frequent class label in the training set. What are its performance metrics on the training set?\n",
    "- Apply a 10-fold cross-validation procedure on the dataset to identify the most suitable classifier among the following:\n",
    "    - DecisionTree classifier (set the maximum depth of the tree equal to 3)\n",
    "    - DecisionTree classifier (set the maximum depth of the tree equal to 3) after oversampling with SMOTE\n",
    "    - KNearestNeighbor classifier (default params)\n",
    "    - KNearestNeighbor classifier (default params) after oversampling with SMOTE\n",
    "- Report and discuss the results, motivating the choice of the most suitable model"
   ]
  },
  {
   "cell_type": "code",
   "execution_count": 34,
   "id": "1e7c3107-de51-41ff-8e26-8247fc1bd682",
   "metadata": {},
   "outputs": [],
   "source": [
    "from sklearn.pipeline import Pipeline\n",
    "from sklearn.tree import DecisionTreeClassifier\n",
    "from sklearn.preprocessing import StandardScaler\n",
    "from sklearn.neighbors import KNeighborsClassifier\n",
    "from sklearn.metrics import classification_report, ConfusionMatrixDisplay, make_scorer, f1_score, recall_score\n",
    "from sklearn.model_selection import cross_val_score, StratifiedKFold, cross_val_predict\n",
    "skf = StratifiedKFold(n_splits = 10, shuffle = True, random_state = 123)"
   ]
  },
  {
   "cell_type": "code",
   "execution_count": 35,
   "id": "2e5e02b1-97d4-48f0-9f2f-97b9abbab261",
   "metadata": {},
   "outputs": [],
   "source": [
    "def eval_cross_validation(pipeline, X, y):\n",
    "    list_df = []\n",
    "    list_accuracy = []\n",
    "    for train, val in skf.split(X, y):\n",
    "        # fit and predict using pipeline\n",
    "        X_tr = X.values[train]\n",
    "        y_tr = y.values[train]\n",
    "        X_val = X.values[val]\n",
    "        y_val = y.values[val]\n",
    "        pipeline.fit(X_tr, y_tr)\n",
    "        y_pred = pipeline.predict(X_val)\n",
    "        # compute classification report\n",
    "        cr = classification_report(y_val, y_pred, output_dict = True, zero_division = np.nan)\n",
    "        # store accuracy\n",
    "        list_accuracy.append(cr['accuracy'])\n",
    "        # store per-class metrics as a dataframe\n",
    "        df = pd.DataFrame({k: v for k, v in cr.items() if k != 'accuracy'})\n",
    "        list_df.append(df)\n",
    "    \n",
    "    # compute average per-class metrics    \n",
    "    df_concat = pd.concat(list_df)\n",
    "    by_row_index = df_concat.groupby(df_concat.index)\n",
    "    df_avg = by_row_index.mean()\n",
    "\n",
    "    # compute average accuracy\n",
    "    accuracy_avg = np.mean(list_accuracy)\n",
    "    \n",
    "    return df_avg, accuracy_avg "
   ]
  },
  {
   "cell_type": "markdown",
   "id": "f75762e0-af55-4475-8e73-98776b595f22",
   "metadata": {},
   "source": [
    "### **DUMMY CLASSIFIER**"
   ]
  },
  {
   "cell_type": "code",
   "execution_count": 37,
   "id": "366fa47d-a8a2-446f-9663-e704a98ca573",
   "metadata": {},
   "outputs": [],
   "source": [
    "from sklearn.dummy import DummyClassifier\n",
    "dummy_clf = DummyClassifier(strategy=\"most_frequent\")"
   ]
  },
  {
   "cell_type": "code",
   "execution_count": 38,
   "id": "e7678521-fbfc-41f8-9b7d-35427eba487f",
   "metadata": {},
   "outputs": [
    {
     "name": "stdout",
     "output_type": "stream",
     "text": [
      "acc: 0.7622475856014048\n"
     ]
    },
    {
     "data": {
      "text/html": [
       "<div>\n",
       "<style scoped>\n",
       "    .dataframe tbody tr th:only-of-type {\n",
       "        vertical-align: middle;\n",
       "    }\n",
       "\n",
       "    .dataframe tbody tr th {\n",
       "        vertical-align: top;\n",
       "    }\n",
       "\n",
       "    .dataframe thead th {\n",
       "        text-align: right;\n",
       "    }\n",
       "</style>\n",
       "<table border=\"1\" class=\"dataframe\">\n",
       "  <thead>\n",
       "    <tr style=\"text-align: right;\">\n",
       "      <th></th>\n",
       "      <th>0</th>\n",
       "      <th>1</th>\n",
       "      <th>macro avg</th>\n",
       "      <th>weighted avg</th>\n",
       "    </tr>\n",
       "  </thead>\n",
       "  <tbody>\n",
       "    <tr>\n",
       "      <th>f1-score</th>\n",
       "      <td>0.865085</td>\n",
       "      <td>0.0</td>\n",
       "      <td>0.432542</td>\n",
       "      <td>0.659410</td>\n",
       "    </tr>\n",
       "    <tr>\n",
       "      <th>precision</th>\n",
       "      <td>0.762248</td>\n",
       "      <td>NaN</td>\n",
       "      <td>0.762248</td>\n",
       "      <td>0.762248</td>\n",
       "    </tr>\n",
       "    <tr>\n",
       "      <th>recall</th>\n",
       "      <td>1.000000</td>\n",
       "      <td>0.0</td>\n",
       "      <td>0.500000</td>\n",
       "      <td>0.762248</td>\n",
       "    </tr>\n",
       "    <tr>\n",
       "      <th>support</th>\n",
       "      <td>51.300000</td>\n",
       "      <td>16.0</td>\n",
       "      <td>67.300000</td>\n",
       "      <td>67.300000</td>\n",
       "    </tr>\n",
       "  </tbody>\n",
       "</table>\n",
       "</div>"
      ],
      "text/plain": [
       "                   0     1  macro avg  weighted avg\n",
       "f1-score    0.865085   0.0   0.432542      0.659410\n",
       "precision   0.762248   NaN   0.762248      0.762248\n",
       "recall      1.000000   0.0   0.500000      0.762248\n",
       "support    51.300000  16.0  67.300000     67.300000"
      ]
     },
     "metadata": {},
     "output_type": "display_data"
    },
    {
     "data": {
      "image/png": "[encoded data removed]",
      "text/plain": [
       "<Figure size 640x480 with 2 Axes>"
      ]
     },
     "metadata": {},
     "output_type": "display_data"
    }
   ],
   "source": [
    "estimators = [('clf', dummy_clf)]\n",
    "pipe=Pipeline(estimators)\n",
    "df_metrics, acc= eval_cross_validation(pipe, X_corr, y)\n",
    "print(\"acc:\", acc)\n",
    "display(df_metrics)\n",
    "y_pred= cross_val_predict(pipe, X_corr, y, cv = skf)\n",
    "ConfusionMatrixDisplay.from_predictions(y, y_pred, values_format='')\n",
    "plt.title(\"DUMMY CLASSIFIER\")\n",
    "plt.show()"
   ]
  },
  {
   "cell_type": "code",
   "execution_count": 39,
   "id": "32f30398-bd0e-4c4c-9d92-b02c8c385e79",
   "metadata": {},
   "outputs": [
    {
     "data": {
      "text/plain": [
       "(array([0., 0., 0., 0., 0., 0., 0., 0., 0., 0.]), 0.0)"
      ]
     },
     "execution_count": 39,
     "metadata": {},
     "output_type": "execute_result"
    }
   ],
   "source": [
    "dum = cross_val_score(pipe, X_corr, y, scoring = make_scorer(f1_score), cv = skf) \n",
    "dum, dum.mean()"
   ]
  },
  {
   "cell_type": "markdown",
   "id": "21392af1-7f7c-4e3e-9279-69a6ec16beb4",
   "metadata": {},
   "source": [
    "## DECISION TREE"
   ]
  },
  {
   "cell_type": "code",
   "execution_count": 41,
   "id": "8afe65a9-3735-4015-920f-c8c5dbf0c8d9",
   "metadata": {},
   "outputs": [
    {
     "name": "stdout",
     "output_type": "stream",
     "text": [
      "acc: 0.7817164179104477\n"
     ]
    },
    {
     "data": {
      "text/html": [
       "<div>\n",
       "<style scoped>\n",
       "    .dataframe tbody tr th:only-of-type {\n",
       "        vertical-align: middle;\n",
       "    }\n",
       "\n",
       "    .dataframe tbody tr th {\n",
       "        vertical-align: top;\n",
       "    }\n",
       "\n",
       "    .dataframe thead th {\n",
       "        text-align: right;\n",
       "    }\n",
       "</style>\n",
       "<table border=\"1\" class=\"dataframe\">\n",
       "  <thead>\n",
       "    <tr style=\"text-align: right;\">\n",
       "      <th></th>\n",
       "      <th>0</th>\n",
       "      <th>1</th>\n",
       "      <th>macro avg</th>\n",
       "      <th>weighted avg</th>\n",
       "    </tr>\n",
       "  </thead>\n",
       "  <tbody>\n",
       "    <tr>\n",
       "      <th>f1-score</th>\n",
       "      <td>0.862916</td>\n",
       "      <td>0.447072</td>\n",
       "      <td>0.654994</td>\n",
       "      <td>0.764036</td>\n",
       "    </tr>\n",
       "    <tr>\n",
       "      <th>precision</th>\n",
       "      <td>0.826094</td>\n",
       "      <td>0.577821</td>\n",
       "      <td>0.701957</td>\n",
       "      <td>0.767185</td>\n",
       "    </tr>\n",
       "    <tr>\n",
       "      <th>recall</th>\n",
       "      <td>0.906787</td>\n",
       "      <td>0.381250</td>\n",
       "      <td>0.644019</td>\n",
       "      <td>0.781716</td>\n",
       "    </tr>\n",
       "    <tr>\n",
       "      <th>support</th>\n",
       "      <td>51.300000</td>\n",
       "      <td>16.000000</td>\n",
       "      <td>67.300000</td>\n",
       "      <td>67.300000</td>\n",
       "    </tr>\n",
       "  </tbody>\n",
       "</table>\n",
       "</div>"
      ],
      "text/plain": [
       "                   0          1  macro avg  weighted avg\n",
       "f1-score    0.862916   0.447072   0.654994      0.764036\n",
       "precision   0.826094   0.577821   0.701957      0.767185\n",
       "recall      0.906787   0.381250   0.644019      0.781716\n",
       "support    51.300000  16.000000  67.300000     67.300000"
      ]
     },
     "metadata": {},
     "output_type": "display_data"
    },
    {
     "data": {
      "image/png": "[encoded data removed]",
      "text/plain": [
       "<Figure size 640x480 with 2 Axes>"
      ]
     },
     "metadata": {},
     "output_type": "display_data"
    }
   ],
   "source": [
    "estimators = [('clf', DecisionTreeClassifier(random_state = 123,  max_depth = 3))]\n",
    "pipe=Pipeline(estimators)\n",
    "df_metrics, acc= eval_cross_validation(pipe, X_corr, y)\n",
    "print(\"acc:\", acc)\n",
    "display(df_metrics)\n",
    "y_pred= cross_val_predict(pipe, X_corr, y, cv = skf)\n",
    "ConfusionMatrixDisplay.from_predictions(y, y_pred, values_format='')\n",
    "plt.title(\"DECISION TREE - max_depth=3\")\n",
    "plt.show()"
   ]
  },
  {
   "cell_type": "code",
   "execution_count": 42,
   "id": "5632cbe4-d506-4546-ae96-7e8f199056df",
   "metadata": {},
   "outputs": [
    {
     "data": {
      "text/plain": [
       "(array([0.33333333, 0.4137931 , 0.55      , 0.32      , 0.56      ,\n",
       "        0.61538462, 0.4       , 0.41666667, 0.46153846, 0.4       ]),\n",
       " 0.44707161803713535)"
      ]
     },
     "execution_count": 42,
     "metadata": {},
     "output_type": "execute_result"
    }
   ],
   "source": [
    "dt = cross_val_score(pipe, X_corr, y, scoring = make_scorer(f1_score), cv = skf) \n",
    "dt, dt.mean()"
   ]
  },
  {
   "cell_type": "markdown",
   "id": "a86e64ca-e5f2-4344-a81a-f25765b34a42",
   "metadata": {},
   "source": [
    "## DECISION TREE with SMOTE"
   ]
  },
  {
   "cell_type": "code",
   "execution_count": 44,
   "id": "21a6ebb1-a356-4922-b197-1d297510a321",
   "metadata": {},
   "outputs": [],
   "source": [
    "from imblearn.over_sampling import SMOTE\n",
    "from imblearn.pipeline import Pipeline as ImbPipeline"
   ]
  },
  {
   "cell_type": "code",
   "execution_count": 45,
   "id": "7046273d-69a9-41a5-9f53-5862f67e7d8f",
   "metadata": {},
   "outputs": [
    {
     "name": "stdout",
     "output_type": "stream",
     "text": [
      "acc: 0.6330333625987709\n"
     ]
    },
    {
     "data": {
      "text/html": [
       "<div>\n",
       "<style scoped>\n",
       "    .dataframe tbody tr th:only-of-type {\n",
       "        vertical-align: middle;\n",
       "    }\n",
       "\n",
       "    .dataframe tbody tr th {\n",
       "        vertical-align: top;\n",
       "    }\n",
       "\n",
       "    .dataframe thead th {\n",
       "        text-align: right;\n",
       "    }\n",
       "</style>\n",
       "<table border=\"1\" class=\"dataframe\">\n",
       "  <thead>\n",
       "    <tr style=\"text-align: right;\">\n",
       "      <th></th>\n",
       "      <th>0</th>\n",
       "      <th>1</th>\n",
       "      <th>macro avg</th>\n",
       "      <th>weighted avg</th>\n",
       "    </tr>\n",
       "  </thead>\n",
       "  <tbody>\n",
       "    <tr>\n",
       "      <th>f1-score</th>\n",
       "      <td>0.710052</td>\n",
       "      <td>0.484967</td>\n",
       "      <td>0.59751</td>\n",
       "      <td>0.656535</td>\n",
       "    </tr>\n",
       "    <tr>\n",
       "      <th>precision</th>\n",
       "      <td>0.884121</td>\n",
       "      <td>0.370020</td>\n",
       "      <td>0.62707</td>\n",
       "      <td>0.761913</td>\n",
       "    </tr>\n",
       "    <tr>\n",
       "      <th>recall</th>\n",
       "      <td>0.602451</td>\n",
       "      <td>0.731250</td>\n",
       "      <td>0.66685</td>\n",
       "      <td>0.633033</td>\n",
       "    </tr>\n",
       "    <tr>\n",
       "      <th>support</th>\n",
       "      <td>51.300000</td>\n",
       "      <td>16.000000</td>\n",
       "      <td>67.30000</td>\n",
       "      <td>67.300000</td>\n",
       "    </tr>\n",
       "  </tbody>\n",
       "</table>\n",
       "</div>"
      ],
      "text/plain": [
       "                   0          1  macro avg  weighted avg\n",
       "f1-score    0.710052   0.484967    0.59751      0.656535\n",
       "precision   0.884121   0.370020    0.62707      0.761913\n",
       "recall      0.602451   0.731250    0.66685      0.633033\n",
       "support    51.300000  16.000000   67.30000     67.300000"
      ]
     },
     "metadata": {},
     "output_type": "display_data"
    },
    {
     "data": {
      "image/png": "[encoded data removed]",
      "text/plain": [
       "<Figure size 640x480 with 2 Axes>"
      ]
     },
     "metadata": {},
     "output_type": "display_data"
    }
   ],
   "source": [
    "estimators = [('smote', SMOTE(random_state=123)),('clf', DecisionTreeClassifier(random_state = 123,  max_depth = 3))]\n",
    "pipe=ImbPipeline(estimators)\n",
    "df_metrics, acc= eval_cross_validation(pipe, X_corr, y)\n",
    "print(\"acc:\", acc)\n",
    "display(df_metrics)\n",
    "y_pred= cross_val_predict(pipe, X_corr, y, cv = skf)\n",
    "ConfusionMatrixDisplay.from_predictions(y, y_pred, values_format='')\n",
    "plt.title(\"DECISION TREE + SMOTE - max_depth=3\")\n",
    "plt.show()"
   ]
  },
  {
   "cell_type": "code",
   "execution_count": 46,
   "id": "c2bd6469-62ca-455a-88de-fc1d4afa7ce7",
   "metadata": {},
   "outputs": [
    {
     "data": {
      "text/plain": [
       "(array([0.43478261, 0.44      , 0.56603774, 0.42105263, 0.47058824,\n",
       "        0.51851852, 0.36363636, 0.47826087, 0.58536585, 0.57142857]),\n",
       " 0.4849671388224981)"
      ]
     },
     "execution_count": 46,
     "metadata": {},
     "output_type": "execute_result"
    }
   ],
   "source": [
    "dt_smote = cross_val_score(pipe, X_corr, y, scoring = make_scorer(f1_score), cv = skf) \n",
    "dt_smote, dt_smote.mean()"
   ]
  },
  {
   "cell_type": "markdown",
   "id": "038baee6-d192-4f51-b62f-046d32aa1dcc",
   "metadata": {},
   "source": [
    "## KNN\n",
    "\n",
    "Before applying KNN we should perform a **StandardScaler()** in order to have all the data within the same range"
   ]
  },
  {
   "cell_type": "code",
   "execution_count": 48,
   "id": "4a42eab3-e0f6-4464-a90d-7f117043e35e",
   "metadata": {},
   "outputs": [
    {
     "name": "stdout",
     "output_type": "stream",
     "text": [
      "acc: 0.7742537313432836\n"
     ]
    },
    {
     "data": {
      "text/html": [
       "<div>\n",
       "<style scoped>\n",
       "    .dataframe tbody tr th:only-of-type {\n",
       "        vertical-align: middle;\n",
       "    }\n",
       "\n",
       "    .dataframe tbody tr th {\n",
       "        vertical-align: top;\n",
       "    }\n",
       "\n",
       "    .dataframe thead th {\n",
       "        text-align: right;\n",
       "    }\n",
       "</style>\n",
       "<table border=\"1\" class=\"dataframe\">\n",
       "  <thead>\n",
       "    <tr style=\"text-align: right;\">\n",
       "      <th></th>\n",
       "      <th>0</th>\n",
       "      <th>1</th>\n",
       "      <th>macro avg</th>\n",
       "      <th>weighted avg</th>\n",
       "    </tr>\n",
       "  </thead>\n",
       "  <tbody>\n",
       "    <tr>\n",
       "      <th>f1-score</th>\n",
       "      <td>0.858651</td>\n",
       "      <td>0.42962</td>\n",
       "      <td>0.644135</td>\n",
       "      <td>0.756605</td>\n",
       "    </tr>\n",
       "    <tr>\n",
       "      <th>precision</th>\n",
       "      <td>0.819985</td>\n",
       "      <td>0.55616</td>\n",
       "      <td>0.688072</td>\n",
       "      <td>0.757365</td>\n",
       "    </tr>\n",
       "    <tr>\n",
       "      <th>recall</th>\n",
       "      <td>0.902866</td>\n",
       "      <td>0.36250</td>\n",
       "      <td>0.632683</td>\n",
       "      <td>0.774254</td>\n",
       "    </tr>\n",
       "    <tr>\n",
       "      <th>support</th>\n",
       "      <td>51.300000</td>\n",
       "      <td>16.00000</td>\n",
       "      <td>67.300000</td>\n",
       "      <td>67.300000</td>\n",
       "    </tr>\n",
       "  </tbody>\n",
       "</table>\n",
       "</div>"
      ],
      "text/plain": [
       "                   0         1  macro avg  weighted avg\n",
       "f1-score    0.858651   0.42962   0.644135      0.756605\n",
       "precision   0.819985   0.55616   0.688072      0.757365\n",
       "recall      0.902866   0.36250   0.632683      0.774254\n",
       "support    51.300000  16.00000  67.300000     67.300000"
      ]
     },
     "metadata": {},
     "output_type": "display_data"
    },
    {
     "data": {
      "image/png": "[encoded data removed]",
      "text/plain": [
       "<Figure size 640x480 with 2 Axes>"
      ]
     },
     "metadata": {},
     "output_type": "display_data"
    }
   ],
   "source": [
    "estimators = [('scaler', StandardScaler()),('clf', KNeighborsClassifier())]\n",
    "pipe=Pipeline(estimators)\n",
    "df_metrics, acc= eval_cross_validation(pipe, X_corr, y)\n",
    "print(\"acc:\", acc)\n",
    "display(df_metrics)\n",
    "y_pred= cross_val_predict(pipe, X_corr, y, cv = skf)\n",
    "ConfusionMatrixDisplay.from_predictions(y, y_pred, values_format='')\n",
    "plt.title(\"KNN + StandardScaling\")\n",
    "plt.show()"
   ]
  },
  {
   "cell_type": "code",
   "execution_count": 49,
   "id": "37699d5a-10f0-4821-95c2-311daf62f7c2",
   "metadata": {},
   "outputs": [
    {
     "data": {
      "text/plain": [
       "(array([0.4       , 0.53333333, 0.45714286, 0.33333333, 0.36363636,\n",
       "        0.61538462, 0.35714286, 0.37037037, 0.53846154, 0.4       ]),\n",
       " 0.43688052688052686)"
      ]
     },
     "execution_count": 49,
     "metadata": {},
     "output_type": "execute_result"
    }
   ],
   "source": [
    "knn = cross_val_score(pipe, X_corr, y, scoring = make_scorer(f1_score), cv = skf) \n",
    "knn, knn.mean()"
   ]
  },
  {
   "cell_type": "markdown",
   "id": "94812d65-bea1-44d0-8968-74fa0be604aa",
   "metadata": {},
   "source": [
    "## KNN with SMOTE"
   ]
  },
  {
   "cell_type": "code",
   "execution_count": 51,
   "id": "8c7a268f-158e-4930-83c7-799a8fbe3cb2",
   "metadata": {},
   "outputs": [
    {
     "name": "stdout",
     "output_type": "stream",
     "text": [
      "acc: 0.7088235294117647\n"
     ]
    },
    {
     "data": {
      "text/html": [
       "<div>\n",
       "<style scoped>\n",
       "    .dataframe tbody tr th:only-of-type {\n",
       "        vertical-align: middle;\n",
       "    }\n",
       "\n",
       "    .dataframe tbody tr th {\n",
       "        vertical-align: top;\n",
       "    }\n",
       "\n",
       "    .dataframe thead th {\n",
       "        text-align: right;\n",
       "    }\n",
       "</style>\n",
       "<table border=\"1\" class=\"dataframe\">\n",
       "  <thead>\n",
       "    <tr style=\"text-align: right;\">\n",
       "      <th></th>\n",
       "      <th>0</th>\n",
       "      <th>1</th>\n",
       "      <th>macro avg</th>\n",
       "      <th>weighted avg</th>\n",
       "    </tr>\n",
       "  </thead>\n",
       "  <tbody>\n",
       "    <tr>\n",
       "      <th>f1-score</th>\n",
       "      <td>0.797612</td>\n",
       "      <td>0.476281</td>\n",
       "      <td>0.636946</td>\n",
       "      <td>0.721195</td>\n",
       "    </tr>\n",
       "    <tr>\n",
       "      <th>precision</th>\n",
       "      <td>0.848092</td>\n",
       "      <td>0.417005</td>\n",
       "      <td>0.632549</td>\n",
       "      <td>0.745625</td>\n",
       "    </tr>\n",
       "    <tr>\n",
       "      <th>recall</th>\n",
       "      <td>0.754563</td>\n",
       "      <td>0.562500</td>\n",
       "      <td>0.658531</td>\n",
       "      <td>0.708824</td>\n",
       "    </tr>\n",
       "    <tr>\n",
       "      <th>support</th>\n",
       "      <td>51.300000</td>\n",
       "      <td>16.000000</td>\n",
       "      <td>67.300000</td>\n",
       "      <td>67.300000</td>\n",
       "    </tr>\n",
       "  </tbody>\n",
       "</table>\n",
       "</div>"
      ],
      "text/plain": [
       "                   0          1  macro avg  weighted avg\n",
       "f1-score    0.797612   0.476281   0.636946      0.721195\n",
       "precision   0.848092   0.417005   0.632549      0.745625\n",
       "recall      0.754563   0.562500   0.658531      0.708824\n",
       "support    51.300000  16.000000  67.300000     67.300000"
      ]
     },
     "metadata": {},
     "output_type": "display_data"
    },
    {
     "data": {
      "image/png": "[encoded data removed]",
      "text/plain": [
       "<Figure size 640x480 with 2 Axes>"
      ]
     },
     "metadata": {},
     "output_type": "display_data"
    }
   ],
   "source": [
    "estimators = [('scaler', StandardScaler()),('sampling', SMOTE(random_state=123)),('clf', KNeighborsClassifier())]\n",
    "pipe=ImbPipeline(estimators)\n",
    "df_metrics, acc= eval_cross_validation(pipe, X_corr, y)\n",
    "print(\"acc:\", acc)\n",
    "display(df_metrics)\n",
    "y_pred= cross_val_predict(pipe, X_corr, y, cv = skf)\n",
    "ConfusionMatrixDisplay.from_predictions(y, y_pred, values_format='')\n",
    "plt.title(\"KNN + StandardScaling + SMOTE\")\n",
    "plt.show()"
   ]
  },
  {
   "cell_type": "code",
   "execution_count": 52,
   "id": "04e60025-a08c-4fc6-b057-08e30cd9e10c",
   "metadata": {},
   "outputs": [
    {
     "data": {
      "text/plain": [
       "(array([0.35897436, 0.54054054, 0.55813953, 0.46153846, 0.54054054,\n",
       "        0.57894737, 0.37837838, 0.375     , 0.48484848, 0.52941176]),\n",
       " 0.48063194328314207)"
      ]
     },
     "execution_count": 52,
     "metadata": {},
     "output_type": "execute_result"
    }
   ],
   "source": [
    "knn_smote = cross_val_score(pipe, X_corr, y, scoring = make_scorer(f1_score), cv = skf) \n",
    "knn_smote, knn_smote.mean()"
   ]
  },
  {
   "cell_type": "markdown",
   "id": "c110b78d-bec1-418e-b0ec-4ff0166e3419",
   "metadata": {},
   "source": [
    "- **PRECISION:** applying the *OverSampling* method **SMOTE** to both KNN and DT **decrease** the precision compared to the same algorithms without SMOTE\n",
    "- **RECALL:** applying the *OverSampling* method **SMOTE** to both KNN and DT **increase** the recall compared to the same algorithms without SMOTE\n",
    "- **F1-SCORE:** applying the *OverSampling* method **SMOTE** to both KNN and DT seems to **slightly increase** the f1-score compared to the same algorithms without SMOTE"
   ]
  },
  {
   "cell_type": "markdown",
   "id": "8341b090-b4cf-462d-ba6c-6c0f34298d16",
   "metadata": {},
   "source": [
    "## EVALUATE the performances of the models"
   ]
  },
  {
   "cell_type": "code",
   "execution_count": 55,
   "id": "c569394d-2f48-4214-8a7a-84866da25bd9",
   "metadata": {},
   "outputs": [
    {
     "data": {
      "text/html": [
       "<div>\n",
       "<style scoped>\n",
       "    .dataframe tbody tr th:only-of-type {\n",
       "        vertical-align: middle;\n",
       "    }\n",
       "\n",
       "    .dataframe tbody tr th {\n",
       "        vertical-align: top;\n",
       "    }\n",
       "\n",
       "    .dataframe thead th {\n",
       "        text-align: right;\n",
       "    }\n",
       "</style>\n",
       "<table border=\"1\" class=\"dataframe\">\n",
       "  <thead>\n",
       "    <tr style=\"text-align: right;\">\n",
       "      <th></th>\n",
       "      <th>dt</th>\n",
       "      <th>dt_smote</th>\n",
       "      <th>knn</th>\n",
       "      <th>knn_smote</th>\n",
       "    </tr>\n",
       "  </thead>\n",
       "  <tbody>\n",
       "    <tr>\n",
       "      <th>0</th>\n",
       "      <td>0.333333</td>\n",
       "      <td>0.434783</td>\n",
       "      <td>0.400000</td>\n",
       "      <td>0.358974</td>\n",
       "    </tr>\n",
       "    <tr>\n",
       "      <th>1</th>\n",
       "      <td>0.413793</td>\n",
       "      <td>0.440000</td>\n",
       "      <td>0.533333</td>\n",
       "      <td>0.540541</td>\n",
       "    </tr>\n",
       "    <tr>\n",
       "      <th>2</th>\n",
       "      <td>0.550000</td>\n",
       "      <td>0.566038</td>\n",
       "      <td>0.457143</td>\n",
       "      <td>0.558140</td>\n",
       "    </tr>\n",
       "    <tr>\n",
       "      <th>3</th>\n",
       "      <td>0.320000</td>\n",
       "      <td>0.421053</td>\n",
       "      <td>0.333333</td>\n",
       "      <td>0.461538</td>\n",
       "    </tr>\n",
       "    <tr>\n",
       "      <th>4</th>\n",
       "      <td>0.560000</td>\n",
       "      <td>0.470588</td>\n",
       "      <td>0.363636</td>\n",
       "      <td>0.540541</td>\n",
       "    </tr>\n",
       "    <tr>\n",
       "      <th>5</th>\n",
       "      <td>0.615385</td>\n",
       "      <td>0.518519</td>\n",
       "      <td>0.615385</td>\n",
       "      <td>0.578947</td>\n",
       "    </tr>\n",
       "    <tr>\n",
       "      <th>6</th>\n",
       "      <td>0.400000</td>\n",
       "      <td>0.363636</td>\n",
       "      <td>0.357143</td>\n",
       "      <td>0.378378</td>\n",
       "    </tr>\n",
       "    <tr>\n",
       "      <th>7</th>\n",
       "      <td>0.416667</td>\n",
       "      <td>0.478261</td>\n",
       "      <td>0.370370</td>\n",
       "      <td>0.375000</td>\n",
       "    </tr>\n",
       "    <tr>\n",
       "      <th>8</th>\n",
       "      <td>0.461538</td>\n",
       "      <td>0.585366</td>\n",
       "      <td>0.538462</td>\n",
       "      <td>0.484848</td>\n",
       "    </tr>\n",
       "    <tr>\n",
       "      <th>9</th>\n",
       "      <td>0.400000</td>\n",
       "      <td>0.571429</td>\n",
       "      <td>0.400000</td>\n",
       "      <td>0.529412</td>\n",
       "    </tr>\n",
       "  </tbody>\n",
       "</table>\n",
       "</div>"
      ],
      "text/plain": [
       "         dt  dt_smote       knn  knn_smote\n",
       "0  0.333333  0.434783  0.400000   0.358974\n",
       "1  0.413793  0.440000  0.533333   0.540541\n",
       "2  0.550000  0.566038  0.457143   0.558140\n",
       "3  0.320000  0.421053  0.333333   0.461538\n",
       "4  0.560000  0.470588  0.363636   0.540541\n",
       "5  0.615385  0.518519  0.615385   0.578947\n",
       "6  0.400000  0.363636  0.357143   0.378378\n",
       "7  0.416667  0.478261  0.370370   0.375000\n",
       "8  0.461538  0.585366  0.538462   0.484848\n",
       "9  0.400000  0.571429  0.400000   0.529412"
      ]
     },
     "execution_count": 55,
     "metadata": {},
     "output_type": "execute_result"
    }
   ],
   "source": [
    "df_res=pd.DataFrame({\"dt\":dt,\n",
    "                     \"dt_smote\":dt_smote,\n",
    "                     \"knn\":knn,\n",
    "                     \"knn_smote\":knn_smote})\n",
    "df_res"
   ]
  },
  {
   "cell_type": "code",
   "execution_count": 56,
   "id": "ed07b574-5c7d-408d-bce4-81a9295972d2",
   "metadata": {},
   "outputs": [
    {
     "data": {
      "image/png": "[encoded data removed]",
      "text/plain": [
       "<Figure size 800x500 with 1 Axes>"
      ]
     },
     "metadata": {},
     "output_type": "display_data"
    }
   ],
   "source": [
    "df_res.boxplot(figsize=(8,5))\n",
    "plt.show()"
   ]
  },
  {
   "cell_type": "code",
   "execution_count": 57,
   "id": "17dab2c0-1f46-4a6e-a681-e134896c2cc1",
   "metadata": {},
   "outputs": [
    {
     "data": {
      "text/plain": [
       "dt           0.447072\n",
       "dt_smote     0.484967\n",
       "knn          0.436881\n",
       "knn_smote    0.480632\n",
       "dtype: float64"
      ]
     },
     "execution_count": 57,
     "metadata": {},
     "output_type": "execute_result"
    }
   ],
   "source": [
    "df_res.mean(axis=0)"
   ]
  },
  {
   "cell_type": "markdown",
   "id": "937acc73-151e-465d-b01e-550833b74267",
   "metadata": {},
   "source": [
    "Keeping \"F1_score\" as the metric that we use to evaluate the perfomances of the model we observe that **\"knn_smote\"** provide us the best performance\n",
    "\n",
    "We should check if there is a statistical difference between the performances of the models"
   ]
  },
  {
   "cell_type": "code",
   "execution_count": 59,
   "id": "1ee1b022-65f3-44bf-af27-0618685b8155",
   "metadata": {},
   "outputs": [],
   "source": [
    "from scipy.stats import wilcoxon"
   ]
  },
  {
   "cell_type": "code",
   "execution_count": 60,
   "id": "a859789c-5510-47ec-a5b0-4e1239e85163",
   "metadata": {},
   "outputs": [
    {
     "name": "stdout",
     "output_type": "stream",
     "text": [
      "(dt -- knn_smote) --> WilcoxonResult(statistic=18.0, pvalue=0.375)\n",
      "(dt_smote -- knn_smote) --> WilcoxonResult(statistic=25.0, pvalue=0.845703125)\n",
      "(knn -- knn_smote) --> WilcoxonResult(statistic=15.0, pvalue=0.232421875)\n"
     ]
    }
   ],
   "source": [
    "for col in df_res.columns[:-1]:\n",
    "    print(f\"({col} -- knn_smote) --> {wilcoxon(df_res[col], df_res['knn_smote'])}\")"
   ]
  },
  {
   "cell_type": "markdown",
   "id": "f5e243e1-3d78-4d6d-bf9b-6cf9ac3b3901",
   "metadata": {},
   "source": [
    "Given the confidence level $\\alpha = 0.05 $, we can conclude that\n",
    "- As ***p*-value $ > \\alpha$** for **\"(dt -- knn_smote)\"**, **\"(dt_smote -- knn_smote)\"** and **\"(knn -- knn_smote)\"** the null hypothesis that the two related paired samples come from the same distribution with the same median **can't be rejected**."
   ]
  },
  {
   "cell_type": "markdown",
   "id": "f2be5930-da8c-4ec0-866d-af4fcb6679e9",
   "metadata": {},
   "source": [
    "# 4. Evaluate and discuss results on the test set:\n",
    "- Train the selected model on the training set: *blood_train.csv*\n",
    "- Import the test set: *blood_test.csv*\n",
    "- Report and discuss the results on the test set"
   ]
  },
  {
   "cell_type": "code",
   "execution_count": 63,
   "id": "9bf20472-9157-4e4a-9035-7274548212ee",
   "metadata": {},
   "outputs": [
    {
     "data": {
      "text/html": [
       "<div>\n",
       "<style scoped>\n",
       "    .dataframe tbody tr th:only-of-type {\n",
       "        vertical-align: middle;\n",
       "    }\n",
       "\n",
       "    .dataframe tbody tr th {\n",
       "        vertical-align: top;\n",
       "    }\n",
       "\n",
       "    .dataframe thead th {\n",
       "        text-align: right;\n",
       "    }\n",
       "</style>\n",
       "<table border=\"1\" class=\"dataframe\">\n",
       "  <thead>\n",
       "    <tr style=\"text-align: right;\">\n",
       "      <th></th>\n",
       "      <th>SubjectID</th>\n",
       "      <th>Recency (months)</th>\n",
       "      <th>Frequency (times)</th>\n",
       "      <th>Monetary (c.c. blood)</th>\n",
       "      <th>Time (months)</th>\n",
       "      <th>whether he/she donated blood in March 2007</th>\n",
       "    </tr>\n",
       "  </thead>\n",
       "  <tbody>\n",
       "    <tr>\n",
       "      <th>0</th>\n",
       "      <td>26</td>\n",
       "      <td>4</td>\n",
       "      <td>6</td>\n",
       "      <td>1500</td>\n",
       "      <td>14</td>\n",
       "      <td>0</td>\n",
       "    </tr>\n",
       "    <tr>\n",
       "      <th>1</th>\n",
       "      <td>42</td>\n",
       "      <td>2</td>\n",
       "      <td>5</td>\n",
       "      <td>1250</td>\n",
       "      <td>16</td>\n",
       "      <td>1</td>\n",
       "    </tr>\n",
       "    <tr>\n",
       "      <th>2</th>\n",
       "      <td>68</td>\n",
       "      <td>4</td>\n",
       "      <td>7</td>\n",
       "      <td>1750</td>\n",
       "      <td>25</td>\n",
       "      <td>0</td>\n",
       "    </tr>\n",
       "    <tr>\n",
       "      <th>3</th>\n",
       "      <td>88</td>\n",
       "      <td>4</td>\n",
       "      <td>2</td>\n",
       "      <td>500</td>\n",
       "      <td>4</td>\n",
       "      <td>0</td>\n",
       "    </tr>\n",
       "    <tr>\n",
       "      <th>4</th>\n",
       "      <td>95</td>\n",
       "      <td>4</td>\n",
       "      <td>7</td>\n",
       "      <td>1750</td>\n",
       "      <td>28</td>\n",
       "      <td>0</td>\n",
       "    </tr>\n",
       "    <tr>\n",
       "      <th>...</th>\n",
       "      <td>...</td>\n",
       "      <td>...</td>\n",
       "      <td>...</td>\n",
       "      <td>...</td>\n",
       "      <td>...</td>\n",
       "      <td>...</td>\n",
       "    </tr>\n",
       "    <tr>\n",
       "      <th>70</th>\n",
       "      <td>720</td>\n",
       "      <td>21</td>\n",
       "      <td>3</td>\n",
       "      <td>750</td>\n",
       "      <td>38</td>\n",
       "      <td>0</td>\n",
       "    </tr>\n",
       "    <tr>\n",
       "      <th>71</th>\n",
       "      <td>721</td>\n",
       "      <td>23</td>\n",
       "      <td>3</td>\n",
       "      <td>750</td>\n",
       "      <td>35</td>\n",
       "      <td>0</td>\n",
       "    </tr>\n",
       "    <tr>\n",
       "      <th>72</th>\n",
       "      <td>728</td>\n",
       "      <td>21</td>\n",
       "      <td>1</td>\n",
       "      <td>250</td>\n",
       "      <td>21</td>\n",
       "      <td>0</td>\n",
       "    </tr>\n",
       "    <tr>\n",
       "      <th>73</th>\n",
       "      <td>734</td>\n",
       "      <td>23</td>\n",
       "      <td>1</td>\n",
       "      <td>250</td>\n",
       "      <td>23</td>\n",
       "      <td>0</td>\n",
       "    </tr>\n",
       "    <tr>\n",
       "      <th>74</th>\n",
       "      <td>737</td>\n",
       "      <td>23</td>\n",
       "      <td>1</td>\n",
       "      <td>250</td>\n",
       "      <td>23</td>\n",
       "      <td>0</td>\n",
       "    </tr>\n",
       "  </tbody>\n",
       "</table>\n",
       "<p>75 rows × 6 columns</p>\n",
       "</div>"
      ],
      "text/plain": [
       "    SubjectID  Recency (months)  Frequency (times)  Monetary (c.c. blood)  \\\n",
       "0          26                 4                  6                   1500   \n",
       "1          42                 2                  5                   1250   \n",
       "2          68                 4                  7                   1750   \n",
       "3          88                 4                  2                    500   \n",
       "4          95                 4                  7                   1750   \n",
       "..        ...               ...                ...                    ...   \n",
       "70        720                21                  3                    750   \n",
       "71        721                23                  3                    750   \n",
       "72        728                21                  1                    250   \n",
       "73        734                23                  1                    250   \n",
       "74        737                23                  1                    250   \n",
       "\n",
       "    Time (months)  whether he/she donated blood in March 2007  \n",
       "0              14                                           0  \n",
       "1              16                                           1  \n",
       "2              25                                           0  \n",
       "3               4                                           0  \n",
       "4              28                                           0  \n",
       "..            ...                                         ...  \n",
       "70             38                                           0  \n",
       "71             35                                           0  \n",
       "72             21                                           0  \n",
       "73             23                                           0  \n",
       "74             23                                           0  \n",
       "\n",
       "[75 rows x 6 columns]"
      ]
     },
     "execution_count": 63,
     "metadata": {},
     "output_type": "execute_result"
    }
   ],
   "source": [
    "sample=pd.read_csv(\"blood_test 1.csv\")\n",
    "sample"
   ]
  },
  {
   "cell_type": "code",
   "execution_count": 64,
   "id": "34bd3276-2fe0-4de8-a510-7dc0d7866e1c",
   "metadata": {},
   "outputs": [
    {
     "data": {
      "text/html": [
       "<div>\n",
       "<style scoped>\n",
       "    .dataframe tbody tr th:only-of-type {\n",
       "        vertical-align: middle;\n",
       "    }\n",
       "\n",
       "    .dataframe tbody tr th {\n",
       "        vertical-align: top;\n",
       "    }\n",
       "\n",
       "    .dataframe thead th {\n",
       "        text-align: right;\n",
       "    }\n",
       "</style>\n",
       "<table border=\"1\" class=\"dataframe\">\n",
       "  <thead>\n",
       "    <tr style=\"text-align: right;\">\n",
       "      <th></th>\n",
       "      <th>Recency (months)</th>\n",
       "      <th>Frequency (times)</th>\n",
       "      <th>Monetary (c.c. blood)</th>\n",
       "      <th>Time (months)</th>\n",
       "      <th>whether he/she donated blood in March 2007</th>\n",
       "    </tr>\n",
       "  </thead>\n",
       "  <tbody>\n",
       "    <tr>\n",
       "      <th>0</th>\n",
       "      <td>4</td>\n",
       "      <td>6</td>\n",
       "      <td>1500</td>\n",
       "      <td>14</td>\n",
       "      <td>0</td>\n",
       "    </tr>\n",
       "    <tr>\n",
       "      <th>1</th>\n",
       "      <td>2</td>\n",
       "      <td>5</td>\n",
       "      <td>1250</td>\n",
       "      <td>16</td>\n",
       "      <td>1</td>\n",
       "    </tr>\n",
       "    <tr>\n",
       "      <th>2</th>\n",
       "      <td>4</td>\n",
       "      <td>7</td>\n",
       "      <td>1750</td>\n",
       "      <td>25</td>\n",
       "      <td>0</td>\n",
       "    </tr>\n",
       "    <tr>\n",
       "      <th>3</th>\n",
       "      <td>4</td>\n",
       "      <td>2</td>\n",
       "      <td>500</td>\n",
       "      <td>4</td>\n",
       "      <td>0</td>\n",
       "    </tr>\n",
       "    <tr>\n",
       "      <th>4</th>\n",
       "      <td>4</td>\n",
       "      <td>7</td>\n",
       "      <td>1750</td>\n",
       "      <td>28</td>\n",
       "      <td>0</td>\n",
       "    </tr>\n",
       "    <tr>\n",
       "      <th>...</th>\n",
       "      <td>...</td>\n",
       "      <td>...</td>\n",
       "      <td>...</td>\n",
       "      <td>...</td>\n",
       "      <td>...</td>\n",
       "    </tr>\n",
       "    <tr>\n",
       "      <th>70</th>\n",
       "      <td>21</td>\n",
       "      <td>3</td>\n",
       "      <td>750</td>\n",
       "      <td>38</td>\n",
       "      <td>0</td>\n",
       "    </tr>\n",
       "    <tr>\n",
       "      <th>71</th>\n",
       "      <td>23</td>\n",
       "      <td>3</td>\n",
       "      <td>750</td>\n",
       "      <td>35</td>\n",
       "      <td>0</td>\n",
       "    </tr>\n",
       "    <tr>\n",
       "      <th>72</th>\n",
       "      <td>21</td>\n",
       "      <td>1</td>\n",
       "      <td>250</td>\n",
       "      <td>21</td>\n",
       "      <td>0</td>\n",
       "    </tr>\n",
       "    <tr>\n",
       "      <th>73</th>\n",
       "      <td>23</td>\n",
       "      <td>1</td>\n",
       "      <td>250</td>\n",
       "      <td>23</td>\n",
       "      <td>0</td>\n",
       "    </tr>\n",
       "    <tr>\n",
       "      <th>74</th>\n",
       "      <td>23</td>\n",
       "      <td>1</td>\n",
       "      <td>250</td>\n",
       "      <td>23</td>\n",
       "      <td>0</td>\n",
       "    </tr>\n",
       "  </tbody>\n",
       "</table>\n",
       "<p>75 rows × 5 columns</p>\n",
       "</div>"
      ],
      "text/plain": [
       "    Recency (months)  Frequency (times)  Monetary (c.c. blood)  Time (months)  \\\n",
       "0                  4                  6                   1500             14   \n",
       "1                  2                  5                   1250             16   \n",
       "2                  4                  7                   1750             25   \n",
       "3                  4                  2                    500              4   \n",
       "4                  4                  7                   1750             28   \n",
       "..               ...                ...                    ...            ...   \n",
       "70                21                  3                    750             38   \n",
       "71                23                  3                    750             35   \n",
       "72                21                  1                    250             21   \n",
       "73                23                  1                    250             23   \n",
       "74                23                  1                    250             23   \n",
       "\n",
       "    whether he/she donated blood in March 2007  \n",
       "0                                            0  \n",
       "1                                            1  \n",
       "2                                            0  \n",
       "3                                            0  \n",
       "4                                            0  \n",
       "..                                         ...  \n",
       "70                                           0  \n",
       "71                                           0  \n",
       "72                                           0  \n",
       "73                                           0  \n",
       "74                                           0  \n",
       "\n",
       "[75 rows x 5 columns]"
      ]
     },
     "execution_count": 64,
     "metadata": {},
     "output_type": "execute_result"
    }
   ],
   "source": [
    "sample=sample.drop(\"SubjectID\", axis=1)\n",
    "sample"
   ]
  },
  {
   "cell_type": "code",
   "execution_count": 65,
   "id": "18b5e6fd-610a-4166-a7bf-3b60cca1c496",
   "metadata": {},
   "outputs": [
    {
     "name": "stdout",
     "output_type": "stream",
     "text": [
      "<class 'pandas.core.frame.DataFrame'>\n",
      "RangeIndex: 75 entries, 0 to 74\n",
      "Data columns (total 5 columns):\n",
      " #   Column                 Non-Null Count  Dtype\n",
      "---  ------                 --------------  -----\n",
      " 0   Recency (months)       75 non-null     int64\n",
      " 1   Frequency (times)      75 non-null     int64\n",
      " 2   Monetary (c.c. blood)  75 non-null     int64\n",
      " 3   Time (months)          75 non-null     int64\n",
      " 4   BinaryStatus           75 non-null     int64\n",
      "dtypes: int64(5)\n",
      "memory usage: 3.1 KB\n"
     ]
    }
   ],
   "source": [
    "sample.rename(columns={'whether he/she donated blood in March 2007': 'BinaryStatus'}, inplace=True)\n",
    "sample.info()"
   ]
  },
  {
   "cell_type": "code",
   "execution_count": 66,
   "id": "c51e5ed4-c80a-4f58-aa4b-9b3b0715c433",
   "metadata": {},
   "outputs": [
    {
     "data": {
      "text/html": [
       "<div>\n",
       "<style scoped>\n",
       "    .dataframe tbody tr th:only-of-type {\n",
       "        vertical-align: middle;\n",
       "    }\n",
       "\n",
       "    .dataframe tbody tr th {\n",
       "        vertical-align: top;\n",
       "    }\n",
       "\n",
       "    .dataframe thead th {\n",
       "        text-align: right;\n",
       "    }\n",
       "</style>\n",
       "<table border=\"1\" class=\"dataframe\">\n",
       "  <thead>\n",
       "    <tr style=\"text-align: right;\">\n",
       "      <th></th>\n",
       "      <th>Recency (months)</th>\n",
       "      <th>Monetary (c.c. blood)</th>\n",
       "      <th>Time (months)</th>\n",
       "      <th>BinaryStatus</th>\n",
       "    </tr>\n",
       "  </thead>\n",
       "  <tbody>\n",
       "    <tr>\n",
       "      <th>0</th>\n",
       "      <td>4</td>\n",
       "      <td>1500</td>\n",
       "      <td>14</td>\n",
       "      <td>0</td>\n",
       "    </tr>\n",
       "    <tr>\n",
       "      <th>1</th>\n",
       "      <td>2</td>\n",
       "      <td>1250</td>\n",
       "      <td>16</td>\n",
       "      <td>1</td>\n",
       "    </tr>\n",
       "    <tr>\n",
       "      <th>2</th>\n",
       "      <td>4</td>\n",
       "      <td>1750</td>\n",
       "      <td>25</td>\n",
       "      <td>0</td>\n",
       "    </tr>\n",
       "    <tr>\n",
       "      <th>3</th>\n",
       "      <td>4</td>\n",
       "      <td>500</td>\n",
       "      <td>4</td>\n",
       "      <td>0</td>\n",
       "    </tr>\n",
       "    <tr>\n",
       "      <th>4</th>\n",
       "      <td>4</td>\n",
       "      <td>1750</td>\n",
       "      <td>28</td>\n",
       "      <td>0</td>\n",
       "    </tr>\n",
       "    <tr>\n",
       "      <th>...</th>\n",
       "      <td>...</td>\n",
       "      <td>...</td>\n",
       "      <td>...</td>\n",
       "      <td>...</td>\n",
       "    </tr>\n",
       "    <tr>\n",
       "      <th>70</th>\n",
       "      <td>21</td>\n",
       "      <td>750</td>\n",
       "      <td>38</td>\n",
       "      <td>0</td>\n",
       "    </tr>\n",
       "    <tr>\n",
       "      <th>71</th>\n",
       "      <td>23</td>\n",
       "      <td>750</td>\n",
       "      <td>35</td>\n",
       "      <td>0</td>\n",
       "    </tr>\n",
       "    <tr>\n",
       "      <th>72</th>\n",
       "      <td>21</td>\n",
       "      <td>250</td>\n",
       "      <td>21</td>\n",
       "      <td>0</td>\n",
       "    </tr>\n",
       "    <tr>\n",
       "      <th>73</th>\n",
       "      <td>23</td>\n",
       "      <td>250</td>\n",
       "      <td>23</td>\n",
       "      <td>0</td>\n",
       "    </tr>\n",
       "    <tr>\n",
       "      <th>74</th>\n",
       "      <td>23</td>\n",
       "      <td>250</td>\n",
       "      <td>23</td>\n",
       "      <td>0</td>\n",
       "    </tr>\n",
       "  </tbody>\n",
       "</table>\n",
       "<p>75 rows × 4 columns</p>\n",
       "</div>"
      ],
      "text/plain": [
       "    Recency (months)  Monetary (c.c. blood)  Time (months)  BinaryStatus\n",
       "0                  4                   1500             14             0\n",
       "1                  2                   1250             16             1\n",
       "2                  4                   1750             25             0\n",
       "3                  4                    500              4             0\n",
       "4                  4                   1750             28             0\n",
       "..               ...                    ...            ...           ...\n",
       "70                21                    750             38             0\n",
       "71                23                    750             35             0\n",
       "72                21                    250             21             0\n",
       "73                23                    250             23             0\n",
       "74                23                    250             23             0\n",
       "\n",
       "[75 rows x 4 columns]"
      ]
     },
     "execution_count": 66,
     "metadata": {},
     "output_type": "execute_result"
    }
   ],
   "source": [
    "sample_corr=sample.drop(\"Frequency (times)\", axis=1)\n",
    "sample_corr"
   ]
  },
  {
   "cell_type": "markdown",
   "id": "7bb980ab-0480-4788-a930-09bf0fdec372",
   "metadata": {},
   "source": [
    "## DEFINE **\"X_sample_corr\"** as \"X\" and **\"y_sample\"** as \"y\""
   ]
  },
  {
   "cell_type": "code",
   "execution_count": 68,
   "id": "0b709497-918c-485c-902b-dd5dd6d127e6",
   "metadata": {},
   "outputs": [
    {
     "data": {
      "text/plain": [
       "(    Recency (months)  Monetary (c.c. blood)  Time (months)\n",
       " 0                  4                   1500             14\n",
       " 1                  2                   1250             16\n",
       " 2                  4                   1750             25\n",
       " 3                  4                    500              4\n",
       " 4                  4                   1750             28\n",
       " ..               ...                    ...            ...\n",
       " 70                21                    750             38\n",
       " 71                23                    750             35\n",
       " 72                21                    250             21\n",
       " 73                23                    250             23\n",
       " 74                23                    250             23\n",
       " \n",
       " [75 rows x 3 columns],\n",
       " 0     0\n",
       " 1     1\n",
       " 2     0\n",
       " 3     0\n",
       " 4     0\n",
       "      ..\n",
       " 70    0\n",
       " 71    0\n",
       " 72    0\n",
       " 73    0\n",
       " 74    0\n",
       " Name: BinaryStatus, Length: 75, dtype: int64)"
      ]
     },
     "execution_count": 68,
     "metadata": {},
     "output_type": "execute_result"
    }
   ],
   "source": [
    "X_sample_corr=sample_corr.drop(\"BinaryStatus\", axis=1)\n",
    "y_sample=sample[\"BinaryStatus\"]\n",
    "X_sample_corr, y_sample"
   ]
  },
  {
   "cell_type": "markdown",
   "id": "c5601e09-9dfe-4190-9ebe-98b1a3eeee73",
   "metadata": {},
   "source": [
    "We are going to use **KNN_smote** as the classifier"
   ]
  },
  {
   "cell_type": "code",
   "execution_count": 70,
   "id": "dc930eb8-21f8-49ff-9fcc-7e8a6d60fc47",
   "metadata": {},
   "outputs": [],
   "source": [
    "def prediction(pipeline, X, y,sample):\n",
    "    pred_list=[]\n",
    "    for train, val in skf.split(X, y):\n",
    "        # fit and predict using pipeline\n",
    "        X_tr = X.iloc[train]\n",
    "        y_tr = y.iloc[train]\n",
    "        pipeline.fit(X_tr, y_tr)\n",
    "        y_pred =pipeline.predict(sample)\n",
    "        pred_list.append(y_pred)\n",
    "    return pred_list"
   ]
  },
  {
   "cell_type": "code",
   "execution_count": 71,
   "id": "143979c8-cc1c-48b5-b4a3-036b0a9d743f",
   "metadata": {},
   "outputs": [],
   "source": [
    "estimators = [('scaler', StandardScaler()),('sampling', SMOTE()),('clf', KNeighborsClassifier())]\n",
    "pipe=ImbPipeline(estimators)\n",
    "pred_list= list(prediction(pipe, X_corr, y, X_sample_corr))"
   ]
  },
  {
   "cell_type": "code",
   "execution_count": 89,
   "id": "b9c22823-4b7c-4c53-97b2-250cd107b455",
   "metadata": {},
   "outputs": [
    {
     "data": {
      "text/plain": [
       "array([1, 1, 1, 0, 1, 0, 1, 0, 1, 0, 0, 1, 0, 0, 0, 0, 1, 0, 0, 0, 0, 0,\n",
       "       0, 1, 0, 0, 0, 0, 0, 0, 0, 0, 0, 0, 0, 0, 0, 0, 0, 0, 0, 0, 0, 0,\n",
       "       0, 0, 0, 0, 0, 0, 1, 1, 1, 0, 0, 1, 0, 0, 1, 0, 0, 0, 0, 0, 0, 0,\n",
       "       0, 0, 0, 0, 0, 0, 0, 0, 0])"
      ]
     },
     "execution_count": 89,
     "metadata": {},
     "output_type": "execute_result"
    }
   ],
   "source": [
    "majority_vote = np.round(np.mean(pred_list, axis=0)).astype(int)\n",
    "majority_vote"
   ]
  },
  {
   "cell_type": "code",
   "execution_count": 91,
   "id": "73ed8646-5a02-4b36-ba16-2c0b8e9c766d",
   "metadata": {},
   "outputs": [
    {
     "data": {
      "text/plain": [
       "{'0': {'precision': 0.7704918032786885,\n",
       "  'recall': 0.8245614035087719,\n",
       "  'f1-score': 0.7966101694915254,\n",
       "  'support': 57.0},\n",
       " '1': {'precision': 0.2857142857142857,\n",
       "  'recall': 0.2222222222222222,\n",
       "  'f1-score': 0.25,\n",
       "  'support': 18.0},\n",
       " 'accuracy': 0.68,\n",
       " 'macro avg': {'precision': 0.5281030444964872,\n",
       "  'recall': 0.5233918128654971,\n",
       "  'f1-score': 0.5233050847457628,\n",
       "  'support': 75.0},\n",
       " 'weighted avg': {'precision': 0.6541451990632319,\n",
       "  'recall': 0.68,\n",
       "  'f1-score': 0.6654237288135593,\n",
       "  'support': 75.0}}"
      ]
     },
     "execution_count": 91,
     "metadata": {},
     "output_type": "execute_result"
    }
   ],
   "source": [
    "classification_report(y_sample, majority_vote, output_dict = True, zero_division = np.nan)"
   ]
  },
  {
   "cell_type": "markdown",
   "id": "8562efb0",
   "metadata": {},
   "source": [
    "# Exam Delivery\n",
    "- Save the current file \n",
    "- Click \"**Restart & Run All**\" and check consistency (no error, expected results)\n",
    "- Export using\n",
    "     - \"**File**\" --> \"**Download as**\" --> \"**HTML (.html)**\"\n",
    "- Upload the following files in MS Teams Assignment:\n",
    "     - HTML: *Surname_Name_StudentNumber.html*\n",
    "     - IPYNB: *Surname_Name_StudentNumber.ipynb* \n"
   ]
  }
 ],
 "metadata": {
  "kernelspec": {
   "display_name": "Python 3 (ipykernel)",
   "language": "python",
   "name": "python3"
  },
  "language_info": {
   "codemirror_mode": {
    "name": "ipython",
    "version": 3
   },
   "file_extension": ".py",
   "mimetype": "text/x-python",
   "name": "python",
   "nbconvert_exporter": "python",
   "pygments_lexer": "ipython3",
   "version": "3.12.3"
  }
 },
 "nbformat": 4,
 "nbformat_minor": 5
}
